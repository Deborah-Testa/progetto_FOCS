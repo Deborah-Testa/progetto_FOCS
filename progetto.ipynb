{
 "cells": [
  {
   "cell_type": "code",
   "execution_count": 1,
   "metadata": {},
   "outputs": [],
   "source": [
    "#Progetto FOCS"
   ]
  },
  {
   "cell_type": "markdown",
   "metadata": {},
   "source": [
    "You have to work on the [University dataset](https://drive.google.com/drive/folders/1Hs3nRtK_F3h8eg59B4-TD1DEua6g8Klv). It contains three different university rankings:\n",
    "- The Times Higher Education World University Ranking, shortly *Times*,\n",
    "- the Academic Ranking of World Universities, shortly *Shanghai*,\n",
    "- the Center for World University Rankings, shortly *cwur*.\n",
    "\n",
    "Notes\n",
    "1. It is mandatory to use GitHub for developing the project.\n",
    "2. The project must be a jupyter notebook.\n",
    "3. There is no restriction on the libraries that can be used, nor on the Python version.\n",
    "4. All questions on the project **must** be asked in a public channel on [Zulip](https://focs.zulipchat.com)."
   ]
  },
  {
   "cell_type": "code",
   "execution_count": null,
   "metadata": {},
   "outputs": [],
   "source": []
  }
 ],
 "metadata": {
  "kernelspec": {
   "display_name": "Python 3",
   "language": "python",
   "name": "python3"
  },
  "language_info": {
   "codemirror_mode": {
    "name": "ipython",
    "version": 3
   },
   "file_extension": ".py",
   "mimetype": "text/x-python",
   "name": "python",
   "nbconvert_exporter": "python",
   "pygments_lexer": "ipython3",
   "version": "3.8.3"
  }
 },
 "nbformat": 4,
 "nbformat_minor": 4
}
